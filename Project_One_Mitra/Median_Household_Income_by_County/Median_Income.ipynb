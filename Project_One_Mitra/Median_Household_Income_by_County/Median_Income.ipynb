{
 "cells": [
  {
   "cell_type": "code",
   "execution_count": 1,
   "metadata": {},
   "outputs": [],
   "source": [
    "# %matplotlib notebook"
   ]
  },
  {
   "cell_type": "code",
   "execution_count": 2,
   "metadata": {},
   "outputs": [],
   "source": [
    "# Dependencies\n",
    "import pandas as pd\n",
    "import matplotlib.pyplot as plt\n",
    "import scipy.stats as sts\n",
    "import numpy as np\n",
    "import seaborn as sns"
   ]
  },
  {
   "cell_type": "code",
   "execution_count": 3,
   "metadata": {},
   "outputs": [],
   "source": [
    "# Source(s): U.S. Census Bureau, 2014-2018 American Community Survey 5-Year Estimates "
   ]
  },
  {
   "cell_type": "code",
   "execution_count": 62,
   "metadata": {},
   "outputs": [
    {
     "data": {
      "text/html": [
       "<div>\n",
       "<style scoped>\n",
       "    .dataframe tbody tr th:only-of-type {\n",
       "        vertical-align: middle;\n",
       "    }\n",
       "\n",
       "    .dataframe tbody tr th {\n",
       "        vertical-align: top;\n",
       "    }\n",
       "\n",
       "    .dataframe thead th {\n",
       "        text-align: right;\n",
       "    }\n",
       "</style>\n",
       "<table border=\"1\" class=\"dataframe\">\n",
       "  <thead>\n",
       "    <tr style=\"text-align: right;\">\n",
       "      <th></th>\n",
       "      <th>County</th>\n",
       "      <th>Income</th>\n",
       "      <th>Margin Of Error</th>\n",
       "    </tr>\n",
       "  </thead>\n",
       "  <tbody>\n",
       "    <tr>\n",
       "      <td>0</td>\n",
       "      <td>Alameda County</td>\n",
       "      <td>92574.0</td>\n",
       "      <td>+/- $1,023</td>\n",
       "    </tr>\n",
       "    <tr>\n",
       "      <td>1</td>\n",
       "      <td>Alpine County</td>\n",
       "      <td>64688.0</td>\n",
       "      <td>+/- $12,933</td>\n",
       "    </tr>\n",
       "    <tr>\n",
       "      <td>2</td>\n",
       "      <td>Amador County</td>\n",
       "      <td>61198.0</td>\n",
       "      <td>+/- $3,241</td>\n",
       "    </tr>\n",
       "    <tr>\n",
       "      <td>3</td>\n",
       "      <td>Butte County</td>\n",
       "      <td>48443.0</td>\n",
       "      <td>+/- $1,477</td>\n",
       "    </tr>\n",
       "    <tr>\n",
       "      <td>4</td>\n",
       "      <td>Calaveras County</td>\n",
       "      <td>58151.0</td>\n",
       "      <td>+/- $3,310</td>\n",
       "    </tr>\n",
       "  </tbody>\n",
       "</table>\n",
       "</div>"
      ],
      "text/plain": [
       "             County   Income Margin Of Error\n",
       "0    Alameda County  92574.0      +/- $1,023\n",
       "1     Alpine County  64688.0     +/- $12,933\n",
       "2     Amador County  61198.0      +/- $3,241\n",
       "3      Butte County  48443.0      +/- $1,477\n",
       "4  Calaveras County  58151.0      +/- $3,310"
      ]
     },
     "execution_count": 62,
     "metadata": {},
     "output_type": "execute_result"
    }
   ],
   "source": [
    "# Read in the Median_Household_Income_by_County data\n",
    "income_df = pd.read_csv('../Resources/Median_Household_Income_by_County.csv')\n",
    "income_df.head()\n",
    "\n"
   ]
  },
  {
   "cell_type": "code",
   "execution_count": 50,
   "metadata": {},
   "outputs": [
    {
     "data": {
      "text/html": [
       "<div>\n",
       "<style scoped>\n",
       "    .dataframe tbody tr th:only-of-type {\n",
       "        vertical-align: middle;\n",
       "    }\n",
       "\n",
       "    .dataframe tbody tr th {\n",
       "        vertical-align: top;\n",
       "    }\n",
       "\n",
       "    .dataframe thead th {\n",
       "        text-align: right;\n",
       "    }\n",
       "</style>\n",
       "<table border=\"1\" class=\"dataframe\">\n",
       "  <thead>\n",
       "    <tr style=\"text-align: right;\">\n",
       "      <th></th>\n",
       "      <th>County</th>\n",
       "      <th>Income</th>\n",
       "    </tr>\n",
       "  </thead>\n",
       "  <tbody>\n",
       "    <tr>\n",
       "      <td>0</td>\n",
       "      <td>Santa Clara</td>\n",
       "      <td>116178.0</td>\n",
       "    </tr>\n",
       "    <tr>\n",
       "      <td>1</td>\n",
       "      <td>San Mateo</td>\n",
       "      <td>113776.0</td>\n",
       "    </tr>\n",
       "    <tr>\n",
       "      <td>2</td>\n",
       "      <td>Marin</td>\n",
       "      <td>110217.0</td>\n",
       "    </tr>\n",
       "    <tr>\n",
       "      <td>3</td>\n",
       "      <td>San Francisco</td>\n",
       "      <td>104552.0</td>\n",
       "    </tr>\n",
       "    <tr>\n",
       "      <td>4</td>\n",
       "      <td>Contra Costa</td>\n",
       "      <td>93712.0</td>\n",
       "    </tr>\n",
       "  </tbody>\n",
       "</table>\n",
       "</div>"
      ],
      "text/plain": [
       "          County    Income\n",
       "0    Santa Clara  116178.0\n",
       "1      San Mateo  113776.0\n",
       "2          Marin  110217.0\n",
       "3  San Francisco  104552.0\n",
       "4   Contra Costa   93712.0"
      ]
     },
     "execution_count": 50,
     "metadata": {},
     "output_type": "execute_result"
    }
   ],
   "source": [
    "income = income_df[['County','Income']]\n",
    "income = income.dropna()\n",
    "income = income.sort_values(by=['Income'],ascending=False).reset_index(drop=True)\n",
    "income['County'] = income['County'].replace(' County', '', regex=True)\n",
    "income.head()\n",
    "# income[income['County'] == 'Alpine County']"
   ]
  },
  {
   "cell_type": "code",
   "execution_count": 63,
   "metadata": {},
   "outputs": [
    {
     "name": "stdout",
     "output_type": "stream",
     "text": [
      "The mean of median income in CA is 64379.0\n"
     ]
    }
   ],
   "source": [
    "# Income = income_df['Income']\n",
    "mean_numpy = np.mean(Income)\n",
    "print(f\"The mean of median income in CA is {round(mean_numpy,0)}\")"
   ]
  },
  {
   "cell_type": "code",
   "execution_count": 64,
   "metadata": {},
   "outputs": [
    {
     "name": "stdout",
     "output_type": "stream",
     "text": [
      "The median of median income in CA is 59157.5\n"
     ]
    }
   ],
   "source": [
    "median_numpy = np.median(income.Income)\n",
    "print(f\"The median of median income in CA is {median_numpy}\")"
   ]
  },
  {
   "cell_type": "code",
   "execution_count": 65,
   "metadata": {},
   "outputs": [
    {
     "data": {
      "text/html": [
       "<div>\n",
       "<style scoped>\n",
       "    .dataframe tbody tr th:only-of-type {\n",
       "        vertical-align: middle;\n",
       "    }\n",
       "\n",
       "    .dataframe tbody tr th {\n",
       "        vertical-align: top;\n",
       "    }\n",
       "\n",
       "    .dataframe thead th {\n",
       "        text-align: right;\n",
       "    }\n",
       "</style>\n",
       "<table border=\"1\" class=\"dataframe\">\n",
       "  <thead>\n",
       "    <tr style=\"text-align: right;\">\n",
       "      <th></th>\n",
       "      <th>County</th>\n",
       "      <th>Income</th>\n",
       "    </tr>\n",
       "  </thead>\n",
       "  <tbody>\n",
       "    <tr>\n",
       "      <td>0</td>\n",
       "      <td>Santa Clara</td>\n",
       "      <td>116178.0</td>\n",
       "    </tr>\n",
       "    <tr>\n",
       "      <td>1</td>\n",
       "      <td>San Mateo</td>\n",
       "      <td>113776.0</td>\n",
       "    </tr>\n",
       "    <tr>\n",
       "      <td>2</td>\n",
       "      <td>Marin</td>\n",
       "      <td>110217.0</td>\n",
       "    </tr>\n",
       "    <tr>\n",
       "      <td>3</td>\n",
       "      <td>San Francisco</td>\n",
       "      <td>104552.0</td>\n",
       "    </tr>\n",
       "    <tr>\n",
       "      <td>4</td>\n",
       "      <td>Contra Costa</td>\n",
       "      <td>93712.0</td>\n",
       "    </tr>\n",
       "    <tr>\n",
       "      <td>5</td>\n",
       "      <td>Alameda</td>\n",
       "      <td>92574.0</td>\n",
       "    </tr>\n",
       "    <tr>\n",
       "      <td>6</td>\n",
       "      <td>Orange</td>\n",
       "      <td>85398.0</td>\n",
       "    </tr>\n",
       "    <tr>\n",
       "      <td>7</td>\n",
       "      <td>Napa</td>\n",
       "      <td>84753.0</td>\n",
       "    </tr>\n",
       "    <tr>\n",
       "      <td>8</td>\n",
       "      <td>Placer</td>\n",
       "      <td>84357.0</td>\n",
       "    </tr>\n",
       "    <tr>\n",
       "      <td>9</td>\n",
       "      <td>Ventura</td>\n",
       "      <td>84017.0</td>\n",
       "    </tr>\n",
       "  </tbody>\n",
       "</table>\n",
       "</div>"
      ],
      "text/plain": [
       "          County    Income\n",
       "0    Santa Clara  116178.0\n",
       "1      San Mateo  113776.0\n",
       "2          Marin  110217.0\n",
       "3  San Francisco  104552.0\n",
       "4   Contra Costa   93712.0\n",
       "5        Alameda   92574.0\n",
       "6         Orange   85398.0\n",
       "7           Napa   84753.0\n",
       "8         Placer   84357.0\n",
       "9        Ventura   84017.0"
      ]
     },
     "execution_count": 65,
     "metadata": {},
     "output_type": "execute_result"
    }
   ],
   "source": [
    "top_income = income.head(10)\n",
    "top_income"
   ]
  },
  {
   "cell_type": "code",
   "execution_count": 66,
   "metadata": {},
   "outputs": [],
   "source": [
    "x_axis = np.arange(len(income))\n",
    "tick_locations = [value+0.4 for value in x_axis]"
   ]
  },
  {
   "cell_type": "code",
   "execution_count": 67,
   "metadata": {},
   "outputs": [
    {
     "data": {
      "image/png": "[encoded data removed]",
      "text/plain": [
       "<Figure size 1080x576 with 1 Axes>"
      ]
     },
     "metadata": {
      "needs_background": "light"
     },
     "output_type": "display_data"
    }
   ],
   "source": [
    "# Characterize the data set using matplotlib \n",
    "plt.figure(figsize=(15,8))\n",
    "# plt.bar(x_axis, income['Income'], color='r',alpha=0.75, align=\"edge\")\n",
    "sns.barplot(x_axis, income['Income'], alpha=0.8)\n",
    "\n",
    "\n",
    "plt.title(\"Median Household Income by County\")\n",
    "plt.xlabel('County')\n",
    "plt.ylabel('Income')\n",
    "\n",
    "plt.xticks(tick_locations, income['County'], rotation=\"vertical\")\n",
    "plt.xlim(-1, 58)\n",
    "plt.tight_layout()\n",
    "plt.savefig(\"Income_County.png\")\n",
    "plt.show()\n"
   ]
  },
  {
   "cell_type": "code",
   "execution_count": 75,
   "metadata": {},
   "outputs": [
    {
     "name": "stdout",
     "output_type": "stream",
     "text": [
      "The income variance using the NumPy module is 346286963.0\n",
      "The income standard deviation using the NumPy module is 18609.0\n"
     ]
    }
   ],
   "source": [
    "# Demonstrate calculating the variance and standard deviation using the different modules\n",
    "var_numpy = np.var(income.Income)\n",
    "print(f\"The income variance using the NumPy module is {round (var_numpy,0)}\")\n",
    "\n",
    "sd_numpy = np.std(income.Income,ddof = 0)\n",
    "print(f\"The income standard deviation using the NumPy module is {round (sd_numpy,0)}\")"
   ]
  },
  {
   "cell_type": "code",
   "execution_count": 69,
   "metadata": {},
   "outputs": [
    {
     "name": "stdout",
     "output_type": "stream",
     "text": [
      "Roughly 68% of the median-income is between 45770.0 and 82987.0\n",
      "Roughly 95% of the median-income is between 27161.0 and 101596.0\n",
      "Roughly 99.7% of the median-income is between 8552.0 and 120205.0\n"
     ]
    }
   ],
   "source": [
    "# Calculate the 68-95-99.7 rule using the standard deviation\n",
    "print(f\"Roughly 68% of the median-income is between {round(mean_numpy-sd_numpy,0)} and {round(mean_numpy+sd_numpy,0)}\")\n",
    "print(f\"Roughly 95% of the median-income is between {round(mean_numpy-2*sd_numpy,0)} and {round(mean_numpy+2*sd_numpy,0)}\")\n",
    "print(f\"Roughly 99.7% of the median-income is between {round(mean_numpy-3*sd_numpy,0)} and {round(mean_numpy+3*sd_numpy,0)}\")"
   ]
  },
  {
   "cell_type": "code",
   "execution_count": 70,
   "metadata": {},
   "outputs": [
    {
     "data": {
      "image/png": "[encoded data removed]",
      "text/plain": [
       "<Figure size 432x288 with 1 Axes>"
      ]
     },
     "metadata": {
      "needs_background": "light"
     },
     "output_type": "display_data"
    }
   ],
   "source": [
    "fig1, ax1 = plt.subplots()\n",
    "ax1.set_title('Median Income by County in CA')\n",
    "ax1.set_ylabel('income')\n",
    "ax1.boxplot(income.Income)\n",
    "plt.show()"
   ]
  },
  {
   "cell_type": "code",
   "execution_count": 74,
   "metadata": {},
   "outputs": [
    {
     "data": {
      "image/png": "[encoded data removed]",
      "text/plain": [
       "<Figure size 432x288 with 1 Axes>"
      ]
     },
     "metadata": {
      "needs_background": "light"
     },
     "output_type": "display_data"
    }
   ],
   "source": [
    "plt.hist(income.Income)\n",
    "plt.xlabel('Median income ($)')\n",
    "plt.ylabel('Counts')\n",
    "plt.show()"
   ]
  },
  {
   "cell_type": "code",
   "execution_count": null,
   "metadata": {},
   "outputs": [],
   "source": []
  }
 ],
 "metadata": {
  "kernelspec": {
   "display_name": "Python 3",
   "language": "python",
   "name": "python3"
  },
  "language_info": {
   "codemirror_mode": {
    "name": "ipython",
    "version": 3
   },
   "file_extension": ".py",
   "mimetype": "text/x-python",
   "name": "python",
   "nbconvert_exporter": "python",
   "pygments_lexer": "ipython3",
   "version": "3.7.4"
  }
 },
 "nbformat": 4,
 "nbformat_minor": 2
}
