{
 "cells": [
  {
   "cell_type": "markdown",
   "metadata": {},
   "source": [
    "# Team 3 : Income disparity within California"
   ]
  },
  {
   "cell_type": "markdown",
   "metadata": {},
   "source": [
    "### Hypothesis:\n",
    "\n",
    "* LA county Santa Clara, and Marin counties has the most income disparity within one-year estimate.(2014 - 2018)(Mitra)\n",
    "* If you have a higher education, then an individual will have a better income. (Niha)\n",
    "* If you are person of color, then you make less income. (Fareedah)\n",
    "* If you are between the age of 30-45, then you make more money (Sugeet)"
   ]
  },
  {
   "cell_type": "markdown",
   "metadata": {},
   "source": [
    "### Resorces:\n",
    "* [Census API Wrapper](https://github.com/datamade/census).\n",
    "* [Census Variable list](https://api.census.gov/data/2017/acs/acs5/variables.html)\n",
    "* [Median Household Income](https://www.census.gov/search-results.html?q=individual+income+by+county+in+california&page=1&stateGeo=none&searchtype=web&cssp=SERP&_charset_=UTF-8)\n",
    "* [Census.gov](https://www.census.gov/)"
   ]
  },
  {
   "cell_type": "markdown",
   "metadata": {},
   "source": [
    "### Presentation:\n",
    "* [Presentation](https://docs.google.com/presentation/d/1PdjgSN5rU8KTqs2RfXM-viaQh6wcWNl7q1lxnyx4-aE/edit?ts=5e9905ee#slide=id.p)"
   ]
  },
  {
   "cell_type": "markdown",
   "metadata": {},
   "source": [
    "### Solutions: Jupyter Notebooks:\n",
    "* [Niha's Notebook](https://github.com/nmanduri999/Project_Income_Disparity/tree/master/Project_one_Niha)\n",
    "* [Mitra's Notebook](https://github.com/nmanduri999/Project_Income_Disparity/tree/master/Project_One_Mitra)\n",
    "* [Fareedah's Notebook](https://github.com/nmanduri999/Project_Income_Disparity/tree/master/project1_fcs)\n",
    "* [Sugeet's Notebook](https://github.com/nmanduri999/Project_Income_Disparity/tree/master/Project_One_Sugeet)\n"
   ]
  },
  {
   "cell_type": "markdown",
   "metadata": {},
   "source": [
    "## California County Map"
   ]
  },
  {
   "cell_type": "markdown",
   "metadata": {},
   "source": [
    "  ![California County Map](california-county-map.gif)"
   ]
  },
  {
   "cell_type": "code",
   "execution_count": null,
   "metadata": {},
   "outputs": [],
   "source": []
  }
 ],
 "metadata": {
  "kernelspec": {
   "display_name": "Python 3",
   "language": "python",
   "name": "python3"
  },
  "language_info": {
   "codemirror_mode": {
    "name": "ipython",
    "version": 3
   },
   "file_extension": ".py",
   "mimetype": "text/x-python",
   "name": "python",
   "nbconvert_exporter": "python",
   "pygments_lexer": "ipython3",
   "version": "3.7.4"
  }
 },
 "nbformat": 4,
 "nbformat_minor": 2
}
